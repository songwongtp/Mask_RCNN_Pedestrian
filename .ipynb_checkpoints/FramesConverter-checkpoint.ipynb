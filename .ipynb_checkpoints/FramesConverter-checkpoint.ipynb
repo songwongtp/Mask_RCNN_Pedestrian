{
 "cells": [
  {
   "cell_type": "code",
   "execution_count": null,
   "metadata": {},
   "outputs": [],
   "source": [
    "import cv2\n",
    "print(cv2.__version__)"
   ]
  },
  {
   "cell_type": "markdown",
   "metadata": {},
   "source": [
    "# Splitting Frames from a Video"
   ]
  },
  {
   "cell_type": "code",
   "execution_count": null,
   "metadata": {},
   "outputs": [],
   "source": [
    "name = 'DJI_0002'\n",
    "vidcap = cv2.VideoCapture(name + '_720p.mp4')\n",
    "fps = vidcap.get(cv2.CAP_PROP_FPS)\n",
    "print (fps)\n",
    "\n",
    "success,image = vidcap.read()\n",
    "count = 0\n",
    "success = True\n",
    "while success:\n",
    "  cv2.imwrite(\"./out/\" + name + (\"/frame%d.jpg\" % count), image)     # save frame as JPEG file\n",
    "  success,image = vidcap.read()\n",
    "  #print ('Read a new frame: ', success)\n",
    "  count += 1\n",
    "vidcap.release()\n",
    "print ('count: ', count)"
   ]
  },
  {
   "cell_type": "markdown",
   "metadata": {},
   "source": [
    "# Combining Frames into a Video"
   ]
  },
  {
   "cell_type": "code",
   "execution_count": null,
   "metadata": {},
   "outputs": [],
   "source": [
    "name = '0002'\n",
    "print (cv2.__file__)\n",
    "frame = cv2.imread(\"./Mask_RCNN/output_\" + name + \"/frame0.jpg\")\n",
    "size = frame.shape[1], frame.shape[0]\n",
    "\n",
    "fourcc = cv2.VideoWriter_fourcc(*'DIVX')\n",
    "vidout = cv2.VideoWriter('./DJI_' + name + '-720p.avi', fourcc, 29, size)\n",
    "\n",
    "count = 0\n",
    "while(1):\n",
    "    frame = cv2.imread(\"./Mask_RCNN/output_\" + name + (\"/frame%d.jpg\" % count))\n",
    "    if frame is None:\n",
    "        break\n",
    "\n",
    "    size = frame.shape[1], frame.shape[0]\n",
    "        \n",
    "    vidout.write(frame)  #write frame to the output video\n",
    "    count += 1\n",
    "\n",
    "print (count)\n",
    "vidout.release()"
   ]
  },
  {
   "cell_type": "code",
   "execution_count": null,
   "metadata": {},
   "outputs": [],
   "source": []
  }
 ],
 "metadata": {
  "kernelspec": {
   "display_name": "Python 3",
   "language": "python",
   "name": "python3"
  },
  "language_info": {
   "codemirror_mode": {
    "name": "ipython",
    "version": 3
   },
   "file_extension": ".py",
   "mimetype": "text/x-python",
   "name": "python",
   "nbconvert_exporter": "python",
   "pygments_lexer": "ipython3",
   "version": "3.6.5"
  }
 },
 "nbformat": 4,
 "nbformat_minor": 2
}
